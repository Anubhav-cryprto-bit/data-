{
 "cells": [
  {
   "cell_type": "markdown",
   "metadata": {},
   "source": [
    "NAME-ANUBHAV SAHA\n",
    "IN THIS NOTEBOOK I CHOOSE TO DO THE 1st TASK\n",
    "HERE SO LET'S BEGIN"
   ]
  },
  {
   "cell_type": "code",
   "execution_count": 2,
   "metadata": {},
   "outputs": [],
   "source": [
    "#load the required libraries to work on\n",
    "import pandas as pd #common toolkit for a Data-Scientist\n",
    "import numpy as np #for mathematical tasks\n",
    "import spacy\n",
    "from spacy.lang.en.stop_words import STOP_WORDS\n",
    "from string import punctuation\n",
    "#using SPACY for efficient text mining\n",
    "#declare the object for NLP-operations\n",
    "nlp = spacy.load('C:/Users/bijay/Anaconda3/Lib/site-packages/en_core_web_sm/en_core_web_sm-2.3.0')"
   ]
  },
  {
   "cell_type": "markdown",
   "metadata": {},
   "source": [
    "HERE WE NOW LOAD THE PROVIDED DATA IN A DATAFRAME"
   ]
  },
  {
   "cell_type": "code",
   "execution_count": 29,
   "metadata": {},
   "outputs": [],
   "source": [
    "file_loc=\"C:/Users/bijay/Downloads/TASK.xlsx\"\n",
    "main_data=pd.read_excel(file_loc,skiprows=1)\n",
    "main_data1=pd.DataFrame(main_data['Introduction'])\n",
    "main_data1=(main_data1['Introduction'].str.extract(r'((?P<Drug_name>[A-Za-z0-9|\\s]*)(?P<Drug_Type>(?:Tablet|Gel|Solution|Capsule|Inhaler|Syrup|Cream|Liquid|Suspension|Kit|Injection|Lotion|Drops|Expectorant|Emulsion|Spray)))'))"
   ]
  },
  {
   "cell_type": "markdown",
   "metadata": {},
   "source": [
    "FOR EFFICEINT SUMMARIZATION WE EXTRACT THE DRUG NAME AND ITS TYPE USING REGULAR EXPRESSIONS"
   ]
  },
  {
   "cell_type": "code",
   "execution_count": 97,
   "metadata": {},
   "outputs": [
    {
     "data": {
      "text/html": [
       "<div>\n",
       "<style scoped>\n",
       "    .dataframe tbody tr th:only-of-type {\n",
       "        vertical-align: middle;\n",
       "    }\n",
       "\n",
       "    .dataframe tbody tr th {\n",
       "        vertical-align: top;\n",
       "    }\n",
       "\n",
       "    .dataframe thead th {\n",
       "        text-align: right;\n",
       "    }\n",
       "</style>\n",
       "<table border=\"1\" class=\"dataframe\">\n",
       "  <thead>\n",
       "    <tr style=\"text-align: right;\">\n",
       "      <th></th>\n",
       "      <th>Full_name</th>\n",
       "      <th>Drug_Type</th>\n",
       "    </tr>\n",
       "  </thead>\n",
       "  <tbody>\n",
       "    <tr>\n",
       "      <td>0</td>\n",
       "      <td>Acnesol Gel</td>\n",
       "      <td>Gel</td>\n",
       "    </tr>\n",
       "    <tr>\n",
       "      <td>1</td>\n",
       "      <td>Ambrodil Syrup</td>\n",
       "      <td>Syrup</td>\n",
       "    </tr>\n",
       "    <tr>\n",
       "      <td>2</td>\n",
       "      <td>Augmentin 625 Duo Tablet</td>\n",
       "      <td>Tablet</td>\n",
       "    </tr>\n",
       "    <tr>\n",
       "      <td>3</td>\n",
       "      <td>Azithral 500 Tablet</td>\n",
       "      <td>Tablet</td>\n",
       "    </tr>\n",
       "    <tr>\n",
       "      <td>4</td>\n",
       "      <td>Alkasol Oral Solution</td>\n",
       "      <td>Solution</td>\n",
       "    </tr>\n",
       "    <tr>\n",
       "      <td>...</td>\n",
       "      <td>...</td>\n",
       "      <td>...</td>\n",
       "    </tr>\n",
       "    <tr>\n",
       "      <td>995</td>\n",
       "      <td>Azapure Tablet</td>\n",
       "      <td>Tablet</td>\n",
       "    </tr>\n",
       "    <tr>\n",
       "      <td>996</td>\n",
       "      <td>Arimidex 1mg Tablet</td>\n",
       "      <td>Tablet</td>\n",
       "    </tr>\n",
       "    <tr>\n",
       "      <td>997</td>\n",
       "      <td>Arpimune ME 100mg Capsule</td>\n",
       "      <td>Capsule</td>\n",
       "    </tr>\n",
       "    <tr>\n",
       "      <td>998</td>\n",
       "      <td>Amlodac CH Tablet</td>\n",
       "      <td>Tablet</td>\n",
       "    </tr>\n",
       "    <tr>\n",
       "      <td>999</td>\n",
       "      <td>Angizem CD 120 Capsule</td>\n",
       "      <td>Capsule</td>\n",
       "    </tr>\n",
       "  </tbody>\n",
       "</table>\n",
       "<p>1000 rows × 2 columns</p>\n",
       "</div>"
      ],
      "text/plain": [
       "                     Full_name Drug_Type\n",
       "0                  Acnesol Gel       Gel\n",
       "1               Ambrodil Syrup     Syrup\n",
       "2     Augmentin 625 Duo Tablet    Tablet\n",
       "3          Azithral 500 Tablet    Tablet\n",
       "4        Alkasol Oral Solution  Solution\n",
       "..                         ...       ...\n",
       "995             Azapure Tablet    Tablet\n",
       "996        Arimidex 1mg Tablet    Tablet\n",
       "997  Arpimune ME 100mg Capsule   Capsule\n",
       "998          Amlodac CH Tablet    Tablet\n",
       "999     Angizem CD 120 Capsule   Capsule\n",
       "\n",
       "[1000 rows x 2 columns]"
      ]
     },
     "execution_count": 97,
     "metadata": {},
     "output_type": "execute_result"
    }
   ],
   "source": [
    "#here we have extracted the drug_name and type from the dataset as you can see in the table below\n",
    "main_data1.rename(columns={0:'Full_name'},inplace=True)\n",
    "main_data1.drop(columns='Drug_name')"
   ]
  },
  {
   "cell_type": "markdown",
   "metadata": {},
   "source": [
    "NOW LETS START WORKING TOWARDS THE BUILDING OF THE TEXT SUMMARIZER"
   ]
  },
  {
   "cell_type": "code",
   "execution_count": 98,
   "metadata": {},
   "outputs": [],
   "source": [
    "def text_summarizer(raw_docx):\n",
    "    raw_text = raw_docx\n",
    "    docx = nlp(raw_text)\n",
    "    stopwords = list(STOP_WORDS)\n",
    "    # Build Word Frequency\n",
    "# word.text is tokenization in spacy\n",
    "    word_frequencies = {}  \n",
    "    for word in docx:  \n",
    "        if word.text not in stopwords:\n",
    "            if word.text not in word_frequencies.keys():\n",
    "                word_frequencies[word.text] = 1\n",
    "            else:\n",
    "                word_frequencies[word.text] += 1\n",
    "\n",
    "\n",
    "    maximum_frequncy = max(word_frequencies.values())\n",
    "\n",
    "    for word in word_frequencies.keys():  \n",
    "        word_frequencies[word] = (word_frequencies[word]/maximum_frequncy)\n",
    "    # Sentence Tokens\n",
    "    sentence_list = [ sentence for sentence in docx.sents ]\n",
    "\n",
    "    # Calculate Sentence Score and Ranking\n",
    "    sentence_scores = {}  \n",
    "    for sent in sentence_list:  \n",
    "        for word in sent:\n",
    "            if word.text.lower() in word_frequencies.keys():\n",
    "                if len(sent.text.split(' ')) < 30:\n",
    "                    if sent not in sentence_scores.keys():\n",
    "                        sentence_scores[sent] = word_frequencies[word.text.lower()]\n",
    "                    else:\n",
    "                        sentence_scores[sent] += word_frequencies[word.text.lower()]\n",
    "\n",
    "    # Find N Largest\n",
    "    from heapq import nlargest\n",
    "    summary_sentences = nlargest(7, sentence_scores, key=sentence_scores.get)\n",
    "    final_sentences = [ w.text for w in summary_sentences ]\n",
    "    summary = ' '.join(final_sentences)\n",
    "    return summary"
   ]
  },
  {
   "cell_type": "code",
   "execution_count": 99,
   "metadata": {},
   "outputs": [],
   "source": [
    "#run the summarization function throughout the dataset\n",
    "f_summary=[]\n",
    "for i in range(0,1000):\n",
    "    f_summary.append(text_summarizer(main_data['Introduction'][i]))\n",
    "    i=i+1"
   ]
  },
  {
   "cell_type": "code",
   "execution_count": 159,
   "metadata": {},
   "outputs": [],
   "source": [
    "main_data1['Other_Details_summary']=f_summary\n",
    "main_data1.rename(columns={'Other_Details':'Other_Details_summary'},inplace=True)\n",
    "df=main_data1.dropna()#remove junk data from the database\n",
    "df.to_csv('Result.csv')"
   ]
  },
  {
   "cell_type": "code",
   "execution_count": 160,
   "metadata": {},
   "outputs": [
    {
     "data": {
      "text/html": [
       "<div>\n",
       "<style scoped>\n",
       "    .dataframe tbody tr th:only-of-type {\n",
       "        vertical-align: middle;\n",
       "    }\n",
       "\n",
       "    .dataframe tbody tr th {\n",
       "        vertical-align: top;\n",
       "    }\n",
       "\n",
       "    .dataframe thead th {\n",
       "        text-align: right;\n",
       "    }\n",
       "</style>\n",
       "<table border=\"1\" class=\"dataframe\">\n",
       "  <thead>\n",
       "    <tr style=\"text-align: right;\">\n",
       "      <th></th>\n",
       "      <th>Full_name</th>\n",
       "      <th>Drug_Type</th>\n",
       "      <th>Other_Details_summary</th>\n",
       "    </tr>\n",
       "  </thead>\n",
       "  <tbody>\n",
       "    <tr>\n",
       "      <td>0</td>\n",
       "      <td>Acnesol Gel</td>\n",
       "      <td>Gel</td>\n",
       "      <td>Common side effects like minor itching, burnin...</td>\n",
       "    </tr>\n",
       "    <tr>\n",
       "      <td>1</td>\n",
       "      <td>Ambrodil Syrup</td>\n",
       "      <td>Syrup</td>\n",
       "      <td>Before taking this medicine, tell your doctor ...</td>\n",
       "    </tr>\n",
       "    <tr>\n",
       "      <td>2</td>\n",
       "      <td>Augmentin 625 Duo Tablet</td>\n",
       "      <td>Tablet</td>\n",
       "      <td>It is used to treat infections of the lungs (e...</td>\n",
       "    </tr>\n",
       "    <tr>\n",
       "      <td>3</td>\n",
       "      <td>Azithral 500 Tablet</td>\n",
       "      <td>Tablet</td>\n",
       "      <td>Tablet is an antibiotic used to treat various ...</td>\n",
       "    </tr>\n",
       "    <tr>\n",
       "      <td>4</td>\n",
       "      <td>Alkasol Oral Solution</td>\n",
       "      <td>Solution</td>\n",
       "      <td>To make sure the medicine is safe for you, bef...</td>\n",
       "    </tr>\n",
       "    <tr>\n",
       "      <td>...</td>\n",
       "      <td>...</td>\n",
       "      <td>...</td>\n",
       "      <td>...</td>\n",
       "    </tr>\n",
       "    <tr>\n",
       "      <td>995</td>\n",
       "      <td>Azapure Tablet</td>\n",
       "      <td>Tablet</td>\n",
       "      <td>Swallow it as a whole,  do not crush, chew, br...</td>\n",
       "    </tr>\n",
       "    <tr>\n",
       "      <td>996</td>\n",
       "      <td>Arimidex 1mg Tablet</td>\n",
       "      <td>Tablet</td>\n",
       "      <td>The most common side effects of the medicine i...</td>\n",
       "    </tr>\n",
       "    <tr>\n",
       "      <td>997</td>\n",
       "      <td>Arpimune ME 100mg Capsule</td>\n",
       "      <td>Capsule</td>\n",
       "      <td>The most common side effects of this medicine ...</td>\n",
       "    </tr>\n",
       "    <tr>\n",
       "      <td>998</td>\n",
       "      <td>Amlodac CH Tablet</td>\n",
       "      <td>Tablet</td>\n",
       "      <td>You should have your blood pressure, kidney fu...</td>\n",
       "    </tr>\n",
       "    <tr>\n",
       "      <td>999</td>\n",
       "      <td>Angizem CD 120 Capsule</td>\n",
       "      <td>Capsule</td>\n",
       "      <td>Common side effects seen with this medicine in...</td>\n",
       "    </tr>\n",
       "  </tbody>\n",
       "</table>\n",
       "<p>933 rows × 3 columns</p>\n",
       "</div>"
      ],
      "text/plain": [
       "                     Full_name Drug_Type  \\\n",
       "0                  Acnesol Gel       Gel   \n",
       "1               Ambrodil Syrup     Syrup   \n",
       "2     Augmentin 625 Duo Tablet    Tablet   \n",
       "3          Azithral 500 Tablet    Tablet   \n",
       "4        Alkasol Oral Solution  Solution   \n",
       "..                         ...       ...   \n",
       "995             Azapure Tablet    Tablet   \n",
       "996        Arimidex 1mg Tablet    Tablet   \n",
       "997  Arpimune ME 100mg Capsule   Capsule   \n",
       "998          Amlodac CH Tablet    Tablet   \n",
       "999     Angizem CD 120 Capsule   Capsule   \n",
       "\n",
       "                                 Other_Details_summary  \n",
       "0    Common side effects like minor itching, burnin...  \n",
       "1    Before taking this medicine, tell your doctor ...  \n",
       "2    It is used to treat infections of the lungs (e...  \n",
       "3    Tablet is an antibiotic used to treat various ...  \n",
       "4    To make sure the medicine is safe for you, bef...  \n",
       "..                                                 ...  \n",
       "995  Swallow it as a whole,  do not crush, chew, br...  \n",
       "996  The most common side effects of the medicine i...  \n",
       "997  The most common side effects of this medicine ...  \n",
       "998  You should have your blood pressure, kidney fu...  \n",
       "999  Common side effects seen with this medicine in...  \n",
       "\n",
       "[933 rows x 3 columns]"
      ]
     },
     "execution_count": 160,
     "metadata": {},
     "output_type": "execute_result"
    }
   ],
   "source": [
    "#our work is finished lets have a look at our finished DataFrame\n",
    "df"
   ]
  },
  {
   "cell_type": "code",
   "execution_count": 161,
   "metadata": {},
   "outputs": [
    {
     "data": {
      "text/plain": [
       "'Common side effects like minor itching, burning, or redness of the skin and oily skin may be seen in some people. Also, inform the doctor if you have ever had bloody diarrhea caused by taking antibiotics or if you are using any other medicines to treat skin conditions. It is used to treat acne, which appears as spots or pimples on your face, chest or back. It is a safe medicine, but you should inform your doctor if you have any problems with your bowels (intestines). Avoid any contact with your eyes, nose, or mouth. It may take several weeks for your symptoms to improve, but you should keep using this medicine regularly. You should normally wash and dry the affected area before applying a thin layer of the medicine.'"
      ]
     },
     "execution_count": 161,
     "metadata": {},
     "output_type": "execute_result"
    }
   ],
   "source": [
    "#lets take the example of 1 paragraph and see how our data is analysed\n",
    "df['Other_Details_summary'][0]#1st summary in the dataset..shown as a example"
   ]
  },
  {
   "cell_type": "code",
   "execution_count": 156,
   "metadata": {},
   "outputs": [
    {
     "name": "stdout",
     "output_type": "stream",
     "text": [
      "THE TYPES OF MEDICINE AVAILABLE IN THE DATA SET----->\n",
      "Gel\n",
      "Syrup\n",
      "Tablet\n",
      "Solution\n",
      "Capsule\n",
      "Cream\n",
      "Kit\n",
      "Suspension\n",
      "Inhaler\n",
      "Liquid\n",
      "Expectorant\n",
      "Injection\n",
      "Lotion\n",
      "Drops\n",
      "Emulsion\n",
      "Spray\n"
     ]
    }
   ],
   "source": [
    "#now lets do some data visualization\n",
    "#lets have a look at the types of medicine available\n",
    "print(\"THE TYPES OF MEDICINE AVAILABLE IN THE DATA SET----->\")\n",
    "type_medicine=df['Drug_Type'].unique()\n",
    "for i in type_medicine:\n",
    "    print(i)"
   ]
  },
  {
   "cell_type": "code",
   "execution_count": 209,
   "metadata": {},
   "outputs": [
    {
     "data": {
      "image/png": "[encoded data removed]",
      "text/plain": [
       "<Figure size 432x288 with 1 Axes>"
      ]
     },
     "metadata": {
      "needs_background": "light"
     },
     "output_type": "display_data"
    }
   ],
   "source": [
    "#also lets understand it better with the help of a bar-graph\n",
    "#lets get the frequency of each type of the drug\n",
    "freq_dist=[]\n",
    "for i in type_medicine:\n",
    "    freq_dist.append(df[df['Drug_Type']==i].count()[1])\n",
    "import matplotlib.pyplot as plt\n",
    "fig=plt.figure()\n",
    "ax=fig.add_axes([0,0,1,1])\n",
    "ax.barh(type_medicine,freq_dist,color=\"grey\")\n",
    "plt.xlabel('FREQUENCY-DIST--->')\n",
    "plt.ylabel('DRUG_TYPE--->')\n",
    "plt.title('DRUG TYPES IN THE DATASET')\n",
    "plt.show()"
   ]
  },
  {
   "cell_type": "markdown",
   "metadata": {},
   "source": []
  }
 ],
 "metadata": {
  "kernelspec": {
   "display_name": "Python 3",
   "language": "python",
   "name": "python3"
  },
  "language_info": {
   "codemirror_mode": {
    "name": "ipython",
    "version": 3
   },
   "file_extension": ".py",
   "mimetype": "text/x-python",
   "name": "python",
   "nbconvert_exporter": "python",
   "pygments_lexer": "ipython3",
   "version": "3.7.4"
  }
 },
 "nbformat": 4,
 "nbformat_minor": 2
}
